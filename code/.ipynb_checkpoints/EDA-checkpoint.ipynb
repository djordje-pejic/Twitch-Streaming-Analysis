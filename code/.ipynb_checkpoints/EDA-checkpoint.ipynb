{
 "cells": [
  {
   "cell_type": "code",
   "execution_count": 1,
   "id": "7e1952a1",
   "metadata": {},
   "outputs": [],
   "source": [
    "import pandas as pd\n",
    "import numpy as np\n",
    "from matplotlib import pyplot as plt\n",
    "\n",
    "pd.set_option('display.max_rows', None)\n",
    "pd.set_option('display.max_columns', None)"
   ]
  },
  {
   "cell_type": "markdown",
   "id": "263208cd",
   "metadata": {},
   "source": [
    "## Twitch Data EDA"
   ]
  },
  {
   "cell_type": "code",
   "execution_count": 2,
   "id": "a27f148d",
   "metadata": {},
   "outputs": [
    {
     "data": {
      "text/html": [
       "<div>\n",
       "<style scoped>\n",
       "    .dataframe tbody tr th:only-of-type {\n",
       "        vertical-align: middle;\n",
       "    }\n",
       "\n",
       "    .dataframe tbody tr th {\n",
       "        vertical-align: top;\n",
       "    }\n",
       "\n",
       "    .dataframe thead th {\n",
       "        text-align: right;\n",
       "    }\n",
       "</style>\n",
       "<table border=\"1\" class=\"dataframe\">\n",
       "  <thead>\n",
       "    <tr style=\"text-align: right;\">\n",
       "      <th></th>\n",
       "      <th>id</th>\n",
       "      <th>igdb_id</th>\n",
       "      <th>twitch_id</th>\n",
       "      <th>name</th>\n",
       "      <th>datetime</th>\n",
       "      <th>view_count</th>\n",
       "    </tr>\n",
       "  </thead>\n",
       "  <tbody>\n",
       "    <tr>\n",
       "      <th>0</th>\n",
       "      <td>1020_4_5_0</td>\n",
       "      <td>1020</td>\n",
       "      <td>32982</td>\n",
       "      <td>Grand Theft Auto V</td>\n",
       "      <td>2023-04-05 00:03:37.620579+00:00</td>\n",
       "      <td>191043</td>\n",
       "    </tr>\n",
       "    <tr>\n",
       "      <th>1</th>\n",
       "      <td>126459_4_5_0</td>\n",
       "      <td>126459</td>\n",
       "      <td>516575</td>\n",
       "      <td>VALORANT</td>\n",
       "      <td>2023-04-05 00:03:37.620579+00:00</td>\n",
       "      <td>197287</td>\n",
       "    </tr>\n",
       "    <tr>\n",
       "      <th>2</th>\n",
       "      <td>115_4_5_0</td>\n",
       "      <td>115</td>\n",
       "      <td>21779</td>\n",
       "      <td>League of Legends</td>\n",
       "      <td>2023-04-05 00:03:37.620579+00:00</td>\n",
       "      <td>144215</td>\n",
       "    </tr>\n",
       "    <tr>\n",
       "      <th>3</th>\n",
       "      <td>121_4_5_0</td>\n",
       "      <td>121</td>\n",
       "      <td>27471</td>\n",
       "      <td>Minecraft</td>\n",
       "      <td>2023-04-05 00:03:37.620579+00:00</td>\n",
       "      <td>122003</td>\n",
       "    </tr>\n",
       "    <tr>\n",
       "      <th>4</th>\n",
       "      <td>114795_4_5_0</td>\n",
       "      <td>114795</td>\n",
       "      <td>511224</td>\n",
       "      <td>Apex Legends</td>\n",
       "      <td>2023-04-05 00:03:37.620579+00:00</td>\n",
       "      <td>68497</td>\n",
       "    </tr>\n",
       "  </tbody>\n",
       "</table>\n",
       "</div>"
      ],
      "text/plain": [
       "             id  igdb_id  twitch_id                name  \\\n",
       "0    1020_4_5_0     1020      32982  Grand Theft Auto V   \n",
       "1  126459_4_5_0   126459     516575            VALORANT   \n",
       "2     115_4_5_0      115      21779   League of Legends   \n",
       "3     121_4_5_0      121      27471           Minecraft   \n",
       "4  114795_4_5_0   114795     511224        Apex Legends   \n",
       "\n",
       "                           datetime  view_count  \n",
       "0  2023-04-05 00:03:37.620579+00:00      191043  \n",
       "1  2023-04-05 00:03:37.620579+00:00      197287  \n",
       "2  2023-04-05 00:03:37.620579+00:00      144215  \n",
       "3  2023-04-05 00:03:37.620579+00:00      122003  \n",
       "4  2023-04-05 00:03:37.620579+00:00       68497  "
      ]
     },
     "execution_count": 2,
     "metadata": {},
     "output_type": "execute_result"
    }
   ],
   "source": [
    "twitch_df = pd.read_csv('../datasets/game_dataset.csv')\n",
    "twitch_df.head()"
   ]
  },
  {
   "cell_type": "code",
   "execution_count": 3,
   "id": "0a1c77a7",
   "metadata": {},
   "outputs": [
    {
     "data": {
      "text/plain": [
       "id            object\n",
       "igdb_id        int64\n",
       "twitch_id      int64\n",
       "name          object\n",
       "datetime      object\n",
       "view_count     int64\n",
       "dtype: object"
      ]
     },
     "execution_count": 3,
     "metadata": {},
     "output_type": "execute_result"
    }
   ],
   "source": [
    "twitch_df.dtypes"
   ]
  },
  {
   "cell_type": "code",
   "execution_count": 4,
   "id": "a0e3f081",
   "metadata": {},
   "outputs": [
    {
     "data": {
      "text/plain": [
       "id                         object\n",
       "igdb_id                     int64\n",
       "twitch_id                   int64\n",
       "name                       object\n",
       "datetime      datetime64[ns, UTC]\n",
       "view_count                  int64\n",
       "dtype: object"
      ]
     },
     "execution_count": 4,
     "metadata": {},
     "output_type": "execute_result"
    }
   ],
   "source": [
    "#Changing the type of datetime \n",
    "twitch_df['datetime'] = pd.to_datetime(twitch_df['datetime'])\n",
    "twitch_df.dtypes"
   ]
  },
  {
   "cell_type": "code",
   "execution_count": 5,
   "id": "4dec1e5a",
   "metadata": {},
   "outputs": [
    {
     "name": "stdout",
     "output_type": "stream",
     "text": [
      "id - 0.0%\n",
      "igdb_id - 0.0%\n",
      "twitch_id - 0.0%\n",
      "name - 0.0%\n",
      "datetime - 0.0%\n",
      "view_count - 0.0%\n"
     ]
    }
   ],
   "source": [
    "#checking for missing values\n",
    "for col in twitch_df.columns:\n",
    "    pct_missing = twitch_df[col].isnull().mean()\n",
    "    print(f'{col} - {pct_missing :.1%}')"
   ]
  },
  {
   "cell_type": "markdown",
   "id": "8a1b6995",
   "metadata": {},
   "source": [
    "CONCLUSION: there are no missing values"
   ]
  },
  {
   "cell_type": "code",
   "execution_count": 6,
   "id": "816b8ce0",
   "metadata": {},
   "outputs": [
    {
     "name": "stdout",
     "output_type": "stream",
     "text": [
      "Сolumns without numeric data: id, name, datetime.\n"
     ]
    }
   ],
   "source": [
    "# Forming categorical columns\n",
    "no_num_data = list(twitch_df.select_dtypes(exclude=('int', 'float')).columns)\n",
    "print(f'Сolumns without numeric data: {\", \".join(no_num_data)}.')"
   ]
  },
  {
   "cell_type": "code",
   "execution_count": 7,
   "id": "4b4c2cc0",
   "metadata": {},
   "outputs": [
    {
     "name": "stdout",
     "output_type": "stream",
     "text": [
      "Column id does not contain duplicates.\n",
      "Column name contains duplicates.\n",
      "Column datetime contains duplicates.\n"
     ]
    }
   ],
   "source": [
    "#Checking for duplicates in non-numerical columns\n",
    "for col in no_num_data:\n",
    "    if twitch_df[col].duplicated().any() == True:\n",
    "        print (f'Column {col} contains duplicates.')\n",
    "    else:\n",
    "        print (f'Column {col} does not contain duplicates.')"
   ]
  },
  {
   "cell_type": "markdown",
   "id": "6b08f3c3",
   "metadata": {},
   "source": [
    "CONCLUSIONS:\n",
    "- Each record has unique ID\n",
    "- There are duplicated names, which is to be expected since the same games can be in the top 20 at different times/days\n",
    "- There are duplicated dates, which is to be expected since the data was collected at the same intervals for different games"
   ]
  },
  {
   "cell_type": "code",
   "execution_count": 8,
   "id": "2d174e70",
   "metadata": {},
   "outputs": [
    {
     "name": "stdout",
     "output_type": "stream",
     "text": [
      "Before: 168 After: 168\n"
     ]
    }
   ],
   "source": [
    "#Checking for whitespaces in the name column\n",
    "before = len(set(twitch_df['name']))\n",
    "after = len(set(twitch_df['name'].str.title().str.strip()))\n",
    "print(f'Before: {before} After: {after}')"
   ]
  },
  {
   "cell_type": "code",
   "execution_count": 9,
   "id": "f612dcfb",
   "metadata": {},
   "outputs": [
    {
     "data": {
      "text/plain": [
       "count     12695.000000\n",
       "mean      58393.344703\n",
       "std       58199.232250\n",
       "min           0.000000\n",
       "25%       22730.500000\n",
       "50%       36559.000000\n",
       "75%       70761.500000\n",
       "max      681107.000000\n",
       "Name: view_count, dtype: float64"
      ]
     },
     "execution_count": 9,
     "metadata": {},
     "output_type": "execute_result"
    }
   ],
   "source": [
    "#exploring the only numerical attribute\n",
    "twitch_df['view_count'].describe()"
   ]
  },
  {
   "cell_type": "code",
   "execution_count": null,
   "id": "64fff193",
   "metadata": {},
   "outputs": [],
   "source": [
    "twitch_df['twitch_id']"
   ]
  },
  {
   "cell_type": "code",
   "execution_count": 10,
   "id": "53ce9d6b",
   "metadata": {
    "scrolled": false
   },
   "outputs": [
    {
     "data": {
      "text/html": [
       "<div>\n",
       "<style scoped>\n",
       "    .dataframe tbody tr th:only-of-type {\n",
       "        vertical-align: middle;\n",
       "    }\n",
       "\n",
       "    .dataframe tbody tr th {\n",
       "        vertical-align: top;\n",
       "    }\n",
       "\n",
       "    .dataframe thead th {\n",
       "        text-align: right;\n",
       "    }\n",
       "</style>\n",
       "<table border=\"1\" class=\"dataframe\">\n",
       "  <thead>\n",
       "    <tr style=\"text-align: right;\">\n",
       "      <th></th>\n",
       "      <th>id</th>\n",
       "      <th>igdb_id</th>\n",
       "      <th>twitch_id</th>\n",
       "      <th>name</th>\n",
       "      <th>datetime</th>\n",
       "      <th>view_count</th>\n",
       "    </tr>\n",
       "  </thead>\n",
       "  <tbody>\n",
       "    <tr>\n",
       "      <th>3716</th>\n",
       "      <td>5139_4_13_18</td>\n",
       "      <td>5139</td>\n",
       "      <td>9140</td>\n",
       "      <td>Scarface: The World Is Yours</td>\n",
       "      <td>2023-04-13 18:01:59.796211+00:00</td>\n",
       "      <td>0</td>\n",
       "    </tr>\n",
       "  </tbody>\n",
       "</table>\n",
       "</div>"
      ],
      "text/plain": [
       "                id  igdb_id  twitch_id                          name  \\\n",
       "3716  5139_4_13_18     5139       9140  Scarface: The World Is Yours   \n",
       "\n",
       "                             datetime  view_count  \n",
       "3716 2023-04-13 18:01:59.796211+00:00           0  "
      ]
     },
     "execution_count": 10,
     "metadata": {},
     "output_type": "execute_result"
    }
   ],
   "source": [
    "#exploring the record with 0 view counts\n",
    "twitch_df[twitch_df['view_count']==0]"
   ]
  },
  {
   "cell_type": "code",
   "execution_count": 11,
   "id": "146f8142",
   "metadata": {},
   "outputs": [
    {
     "data": {
      "text/html": [
       "<div>\n",
       "<style scoped>\n",
       "    .dataframe tbody tr th:only-of-type {\n",
       "        vertical-align: middle;\n",
       "    }\n",
       "\n",
       "    .dataframe tbody tr th {\n",
       "        vertical-align: top;\n",
       "    }\n",
       "\n",
       "    .dataframe thead th {\n",
       "        text-align: right;\n",
       "    }\n",
       "</style>\n",
       "<table border=\"1\" class=\"dataframe\">\n",
       "  <thead>\n",
       "    <tr style=\"text-align: right;\">\n",
       "      <th></th>\n",
       "      <th>id</th>\n",
       "      <th>igdb_id</th>\n",
       "      <th>twitch_id</th>\n",
       "      <th>name</th>\n",
       "      <th>datetime</th>\n",
       "      <th>view_count</th>\n",
       "    </tr>\n",
       "  </thead>\n",
       "  <tbody>\n",
       "    <tr>\n",
       "      <th>3716</th>\n",
       "      <td>5139_4_13_18</td>\n",
       "      <td>5139</td>\n",
       "      <td>9140</td>\n",
       "      <td>Scarface: The World Is Yours</td>\n",
       "      <td>2023-04-13 18:01:59.796211+00:00</td>\n",
       "      <td>0</td>\n",
       "    </tr>\n",
       "    <tr>\n",
       "      <th>3732</th>\n",
       "      <td>5139_4_13_19</td>\n",
       "      <td>5139</td>\n",
       "      <td>9140</td>\n",
       "      <td>Scarface: The World Is Yours</td>\n",
       "      <td>2023-04-13 19:02:01.085770+00:00</td>\n",
       "      <td>39476</td>\n",
       "    </tr>\n",
       "    <tr>\n",
       "      <th>3749</th>\n",
       "      <td>5139_4_13_20</td>\n",
       "      <td>5139</td>\n",
       "      <td>9140</td>\n",
       "      <td>Scarface: The World Is Yours</td>\n",
       "      <td>2023-04-13 20:02:11.011836+00:00</td>\n",
       "      <td>39178</td>\n",
       "    </tr>\n",
       "    <tr>\n",
       "      <th>3769</th>\n",
       "      <td>5139_4_13_21</td>\n",
       "      <td>5139</td>\n",
       "      <td>9140</td>\n",
       "      <td>Scarface: The World Is Yours</td>\n",
       "      <td>2023-04-13 21:02:20.521346+00:00</td>\n",
       "      <td>37620</td>\n",
       "    </tr>\n",
       "    <tr>\n",
       "      <th>3789</th>\n",
       "      <td>5139_4_13_22</td>\n",
       "      <td>5139</td>\n",
       "      <td>9140</td>\n",
       "      <td>Scarface: The World Is Yours</td>\n",
       "      <td>2023-04-13 22:02:22.552373+00:00</td>\n",
       "      <td>33771</td>\n",
       "    </tr>\n",
       "    <tr>\n",
       "      <th>3810</th>\n",
       "      <td>5139_4_13_23</td>\n",
       "      <td>5139</td>\n",
       "      <td>9140</td>\n",
       "      <td>Scarface: The World Is Yours</td>\n",
       "      <td>2023-04-13 23:01:58.236605+00:00</td>\n",
       "      <td>30766</td>\n",
       "    </tr>\n",
       "    <tr>\n",
       "      <th>3828</th>\n",
       "      <td>5139_4_14_0</td>\n",
       "      <td>5139</td>\n",
       "      <td>9140</td>\n",
       "      <td>Scarface: The World Is Yours</td>\n",
       "      <td>2023-04-14 00:02:40.847530+00:00</td>\n",
       "      <td>27131</td>\n",
       "    </tr>\n",
       "    <tr>\n",
       "      <th>5069</th>\n",
       "      <td>5139_4_16_21</td>\n",
       "      <td>5139</td>\n",
       "      <td>9140</td>\n",
       "      <td>Scarface: The World Is Yours</td>\n",
       "      <td>2023-04-16 21:01:43.412872+00:00</td>\n",
       "      <td>45550</td>\n",
       "    </tr>\n",
       "    <tr>\n",
       "      <th>5088</th>\n",
       "      <td>5139_4_16_22</td>\n",
       "      <td>5139</td>\n",
       "      <td>9140</td>\n",
       "      <td>Scarface: The World Is Yours</td>\n",
       "      <td>2023-04-16 22:01:57.397070+00:00</td>\n",
       "      <td>41112</td>\n",
       "    </tr>\n",
       "    <tr>\n",
       "      <th>5109</th>\n",
       "      <td>5139_4_16_23</td>\n",
       "      <td>5139</td>\n",
       "      <td>9140</td>\n",
       "      <td>Scarface: The World Is Yours</td>\n",
       "      <td>2023-04-16 23:01:44.786042+00:00</td>\n",
       "      <td>33724</td>\n",
       "    </tr>\n",
       "    <tr>\n",
       "      <th>5126</th>\n",
       "      <td>5139_4_17_0</td>\n",
       "      <td>5139</td>\n",
       "      <td>9140</td>\n",
       "      <td>Scarface: The World Is Yours</td>\n",
       "      <td>2023-04-17 00:03:05.140334+00:00</td>\n",
       "      <td>27194</td>\n",
       "    </tr>\n",
       "    <tr>\n",
       "      <th>5146</th>\n",
       "      <td>5139_4_17_1</td>\n",
       "      <td>5139</td>\n",
       "      <td>9140</td>\n",
       "      <td>Scarface: The World Is Yours</td>\n",
       "      <td>2023-04-17 01:03:28.477205+00:00</td>\n",
       "      <td>24052</td>\n",
       "    </tr>\n",
       "    <tr>\n",
       "      <th>5500</th>\n",
       "      <td>5139_4_17_21</td>\n",
       "      <td>5139</td>\n",
       "      <td>9140</td>\n",
       "      <td>Scarface: The World Is Yours</td>\n",
       "      <td>2023-04-17 21:02:00.993109+00:00</td>\n",
       "      <td>38223</td>\n",
       "    </tr>\n",
       "    <tr>\n",
       "      <th>5516</th>\n",
       "      <td>5139_4_17_22</td>\n",
       "      <td>5139</td>\n",
       "      <td>9140</td>\n",
       "      <td>Scarface: The World Is Yours</td>\n",
       "      <td>2023-04-17 22:02:07.453646+00:00</td>\n",
       "      <td>37011</td>\n",
       "    </tr>\n",
       "    <tr>\n",
       "      <th>5539</th>\n",
       "      <td>5139_4_17_23</td>\n",
       "      <td>5139</td>\n",
       "      <td>9140</td>\n",
       "      <td>Scarface: The World Is Yours</td>\n",
       "      <td>2023-04-17 23:03:08.229551+00:00</td>\n",
       "      <td>28384</td>\n",
       "    </tr>\n",
       "    <tr>\n",
       "      <th>5558</th>\n",
       "      <td>5139_4_18_0</td>\n",
       "      <td>5139</td>\n",
       "      <td>9140</td>\n",
       "      <td>Scarface: The World Is Yours</td>\n",
       "      <td>2023-04-18 00:02:50.152773+00:00</td>\n",
       "      <td>25074</td>\n",
       "    </tr>\n",
       "    <tr>\n",
       "      <th>5937</th>\n",
       "      <td>5139_4_18_21</td>\n",
       "      <td>5139</td>\n",
       "      <td>9140</td>\n",
       "      <td>Scarface: The World Is Yours</td>\n",
       "      <td>2023-04-18 21:02:14.234805+00:00</td>\n",
       "      <td>32481</td>\n",
       "    </tr>\n",
       "  </tbody>\n",
       "</table>\n",
       "</div>"
      ],
      "text/plain": [
       "                id  igdb_id  twitch_id                          name  \\\n",
       "3716  5139_4_13_18     5139       9140  Scarface: The World Is Yours   \n",
       "3732  5139_4_13_19     5139       9140  Scarface: The World Is Yours   \n",
       "3749  5139_4_13_20     5139       9140  Scarface: The World Is Yours   \n",
       "3769  5139_4_13_21     5139       9140  Scarface: The World Is Yours   \n",
       "3789  5139_4_13_22     5139       9140  Scarface: The World Is Yours   \n",
       "3810  5139_4_13_23     5139       9140  Scarface: The World Is Yours   \n",
       "3828   5139_4_14_0     5139       9140  Scarface: The World Is Yours   \n",
       "5069  5139_4_16_21     5139       9140  Scarface: The World Is Yours   \n",
       "5088  5139_4_16_22     5139       9140  Scarface: The World Is Yours   \n",
       "5109  5139_4_16_23     5139       9140  Scarface: The World Is Yours   \n",
       "5126   5139_4_17_0     5139       9140  Scarface: The World Is Yours   \n",
       "5146   5139_4_17_1     5139       9140  Scarface: The World Is Yours   \n",
       "5500  5139_4_17_21     5139       9140  Scarface: The World Is Yours   \n",
       "5516  5139_4_17_22     5139       9140  Scarface: The World Is Yours   \n",
       "5539  5139_4_17_23     5139       9140  Scarface: The World Is Yours   \n",
       "5558   5139_4_18_0     5139       9140  Scarface: The World Is Yours   \n",
       "5937  5139_4_18_21     5139       9140  Scarface: The World Is Yours   \n",
       "\n",
       "                             datetime  view_count  \n",
       "3716 2023-04-13 18:01:59.796211+00:00           0  \n",
       "3732 2023-04-13 19:02:01.085770+00:00       39476  \n",
       "3749 2023-04-13 20:02:11.011836+00:00       39178  \n",
       "3769 2023-04-13 21:02:20.521346+00:00       37620  \n",
       "3789 2023-04-13 22:02:22.552373+00:00       33771  \n",
       "3810 2023-04-13 23:01:58.236605+00:00       30766  \n",
       "3828 2023-04-14 00:02:40.847530+00:00       27131  \n",
       "5069 2023-04-16 21:01:43.412872+00:00       45550  \n",
       "5088 2023-04-16 22:01:57.397070+00:00       41112  \n",
       "5109 2023-04-16 23:01:44.786042+00:00       33724  \n",
       "5126 2023-04-17 00:03:05.140334+00:00       27194  \n",
       "5146 2023-04-17 01:03:28.477205+00:00       24052  \n",
       "5500 2023-04-17 21:02:00.993109+00:00       38223  \n",
       "5516 2023-04-17 22:02:07.453646+00:00       37011  \n",
       "5539 2023-04-17 23:03:08.229551+00:00       28384  \n",
       "5558 2023-04-18 00:02:50.152773+00:00       25074  \n",
       "5937 2023-04-18 21:02:14.234805+00:00       32481  "
      ]
     },
     "execution_count": 11,
     "metadata": {},
     "output_type": "execute_result"
    }
   ],
   "source": [
    "twitch_df[twitch_df['igdb_id']==5139]"
   ]
  },
  {
   "cell_type": "markdown",
   "id": "39ba9068",
   "metadata": {},
   "source": [
    "CONCLUSION:\n",
    "- It is interesting to note that this game had 0 views on April 13th at 18:00, while that number increased to 39,476 in the following hour"
   ]
  },
  {
   "cell_type": "code",
   "execution_count": 12,
   "id": "0d2da1ca",
   "metadata": {},
   "outputs": [
    {
     "data": {
      "text/plain": [
       "[array([22730.5,     0. ]), array([ 70761.5, 142754. ])]"
      ]
     },
     "execution_count": 12,
     "metadata": {},
     "output_type": "execute_result"
    },
    {
     "data": {
      "image/png": "[encoded data removed]",
      "text/plain": [
       "<Figure size 640x480 with 1 Axes>"
      ]
     },
     "metadata": {},
     "output_type": "display_data"
    }
   ],
   "source": [
    "B = plt.boxplot(twitch_df['view_count'])\n",
    "[item.get_ydata() for item in B['whiskers']]"
   ]
  },
  {
   "cell_type": "markdown",
   "id": "446d5921",
   "metadata": {},
   "source": [
    "CONCLUSION:\n",
    "- The data is not normally distributed. Asymmetry  is observed.\n",
    "- There are outliers in the data. There are games that are watched far more than average.\n",
    "- One game has 0 watchers, which is unusual. The number of views of said game increases drastically in one hour"
   ]
  },
  {
   "cell_type": "markdown",
   "id": "698b2992",
   "metadata": {},
   "source": [
    "## IGDB Data EDA"
   ]
  },
  {
   "cell_type": "code",
   "execution_count": 13,
   "id": "fb6ed2f3",
   "metadata": {},
   "outputs": [
    {
     "data": {
      "text/html": [
       "<div>\n",
       "<style scoped>\n",
       "    .dataframe tbody tr th:only-of-type {\n",
       "        vertical-align: middle;\n",
       "    }\n",
       "\n",
       "    .dataframe tbody tr th {\n",
       "        vertical-align: top;\n",
       "    }\n",
       "\n",
       "    .dataframe thead th {\n",
       "        text-align: right;\n",
       "    }\n",
       "</style>\n",
       "<table border=\"1\" class=\"dataframe\">\n",
       "  <thead>\n",
       "    <tr style=\"text-align: right;\">\n",
       "      <th></th>\n",
       "      <th>igdb_id</th>\n",
       "      <th>genres</th>\n",
       "      <th>platforms</th>\n",
       "      <th>rating</th>\n",
       "    </tr>\n",
       "  </thead>\n",
       "  <tbody>\n",
       "    <tr>\n",
       "      <th>0</th>\n",
       "      <td>1020</td>\n",
       "      <td>Shooter</td>\n",
       "      <td>PC (Microsoft Windows)</td>\n",
       "      <td>89</td>\n",
       "    </tr>\n",
       "    <tr>\n",
       "      <th>1</th>\n",
       "      <td>1020</td>\n",
       "      <td>Shooter</td>\n",
       "      <td>PlayStation 3</td>\n",
       "      <td>89</td>\n",
       "    </tr>\n",
       "    <tr>\n",
       "      <th>2</th>\n",
       "      <td>1020</td>\n",
       "      <td>Shooter</td>\n",
       "      <td>Xbox 360</td>\n",
       "      <td>89</td>\n",
       "    </tr>\n",
       "    <tr>\n",
       "      <th>3</th>\n",
       "      <td>1020</td>\n",
       "      <td>Shooter</td>\n",
       "      <td>PlayStation 4</td>\n",
       "      <td>89</td>\n",
       "    </tr>\n",
       "    <tr>\n",
       "      <th>4</th>\n",
       "      <td>1020</td>\n",
       "      <td>Shooter</td>\n",
       "      <td>Xbox One</td>\n",
       "      <td>89</td>\n",
       "    </tr>\n",
       "  </tbody>\n",
       "</table>\n",
       "</div>"
      ],
      "text/plain": [
       "   igdb_id   genres               platforms  rating\n",
       "0     1020  Shooter  PC (Microsoft Windows)      89\n",
       "1     1020  Shooter           PlayStation 3      89\n",
       "2     1020  Shooter                Xbox 360      89\n",
       "3     1020  Shooter           PlayStation 4      89\n",
       "4     1020  Shooter                Xbox One      89"
      ]
     },
     "execution_count": 13,
     "metadata": {},
     "output_type": "execute_result"
    }
   ],
   "source": [
    "igdb_df = pd.read_csv('../datasets/igdb_data.csv')\n",
    "igdb_df.head()"
   ]
  },
  {
   "cell_type": "code",
   "execution_count": 14,
   "id": "7f9bef93",
   "metadata": {},
   "outputs": [
    {
     "data": {
      "text/plain": [
       "igdb_id       int64\n",
       "genres       object\n",
       "platforms    object\n",
       "rating        int64\n",
       "dtype: object"
      ]
     },
     "execution_count": 14,
     "metadata": {},
     "output_type": "execute_result"
    }
   ],
   "source": [
    "igdb_df.dtypes"
   ]
  },
  {
   "cell_type": "code",
   "execution_count": 15,
   "id": "4d968608",
   "metadata": {},
   "outputs": [
    {
     "name": "stdout",
     "output_type": "stream",
     "text": [
      "Checking for null values\n",
      "igdb_id - 0.0%\n",
      "genres - 0.2%\n",
      "platforms - 0.3%\n",
      "rating - 0.0%\n"
     ]
    }
   ],
   "source": [
    "print('Checking for null values')\n",
    "for col in igdb_df.columns:\n",
    "    pct_missing = igdb_df[col].isnull().mean()\n",
    "    print(f'{col} - {pct_missing :.1%}')"
   ]
  },
  {
   "cell_type": "code",
   "execution_count": 16,
   "id": "84d4be8d",
   "metadata": {
    "scrolled": true
   },
   "outputs": [
    {
     "data": {
      "text/html": [
       "<div>\n",
       "<style scoped>\n",
       "    .dataframe tbody tr th:only-of-type {\n",
       "        vertical-align: middle;\n",
       "    }\n",
       "\n",
       "    .dataframe tbody tr th {\n",
       "        vertical-align: top;\n",
       "    }\n",
       "\n",
       "    .dataframe thead th {\n",
       "        text-align: right;\n",
       "    }\n",
       "</style>\n",
       "<table border=\"1\" class=\"dataframe\">\n",
       "  <thead>\n",
       "    <tr style=\"text-align: right;\">\n",
       "      <th></th>\n",
       "      <th>igdb_id</th>\n",
       "      <th>genres</th>\n",
       "      <th>platforms</th>\n",
       "      <th>rating</th>\n",
       "    </tr>\n",
       "  </thead>\n",
       "  <tbody>\n",
       "    <tr>\n",
       "      <th>325</th>\n",
       "      <td>220888</td>\n",
       "      <td>NaN</td>\n",
       "      <td>NaN</td>\n",
       "      <td>0</td>\n",
       "    </tr>\n",
       "    <tr>\n",
       "      <th>1149</th>\n",
       "      <td>227087</td>\n",
       "      <td>NaN</td>\n",
       "      <td>NaN</td>\n",
       "      <td>0</td>\n",
       "    </tr>\n",
       "    <tr>\n",
       "      <th>1440</th>\n",
       "      <td>157445</td>\n",
       "      <td>Simulator</td>\n",
       "      <td>NaN</td>\n",
       "      <td>0</td>\n",
       "    </tr>\n",
       "    <tr>\n",
       "      <th>1441</th>\n",
       "      <td>157445</td>\n",
       "      <td>Indie</td>\n",
       "      <td>NaN</td>\n",
       "      <td>0</td>\n",
       "    </tr>\n",
       "  </tbody>\n",
       "</table>\n",
       "</div>"
      ],
      "text/plain": [
       "      igdb_id     genres platforms  rating\n",
       "325    220888        NaN       NaN       0\n",
       "1149   227087        NaN       NaN       0\n",
       "1440   157445  Simulator       NaN       0\n",
       "1441   157445      Indie       NaN       0"
      ]
     },
     "execution_count": 16,
     "metadata": {},
     "output_type": "execute_result"
    }
   ],
   "source": [
    "igdb_df[igdb_df['platforms'].isnull()]"
   ]
  },
  {
   "cell_type": "code",
   "execution_count": 17,
   "id": "e5948318",
   "metadata": {},
   "outputs": [
    {
     "data": {
      "text/html": [
       "<div>\n",
       "<style scoped>\n",
       "    .dataframe tbody tr th:only-of-type {\n",
       "        vertical-align: middle;\n",
       "    }\n",
       "\n",
       "    .dataframe tbody tr th {\n",
       "        vertical-align: top;\n",
       "    }\n",
       "\n",
       "    .dataframe thead th {\n",
       "        text-align: right;\n",
       "    }\n",
       "</style>\n",
       "<table border=\"1\" class=\"dataframe\">\n",
       "  <thead>\n",
       "    <tr style=\"text-align: right;\">\n",
       "      <th></th>\n",
       "      <th>igdb_id</th>\n",
       "      <th>genres</th>\n",
       "      <th>platforms</th>\n",
       "      <th>rating</th>\n",
       "    </tr>\n",
       "  </thead>\n",
       "  <tbody>\n",
       "    <tr>\n",
       "      <th>175</th>\n",
       "      <td>45517</td>\n",
       "      <td>NaN</td>\n",
       "      <td>Sega Saturn</td>\n",
       "      <td>0</td>\n",
       "    </tr>\n",
       "    <tr>\n",
       "      <th>325</th>\n",
       "      <td>220888</td>\n",
       "      <td>NaN</td>\n",
       "      <td>NaN</td>\n",
       "      <td>0</td>\n",
       "    </tr>\n",
       "    <tr>\n",
       "      <th>1149</th>\n",
       "      <td>227087</td>\n",
       "      <td>NaN</td>\n",
       "      <td>NaN</td>\n",
       "      <td>0</td>\n",
       "    </tr>\n",
       "  </tbody>\n",
       "</table>\n",
       "</div>"
      ],
      "text/plain": [
       "      igdb_id genres    platforms  rating\n",
       "175     45517    NaN  Sega Saturn       0\n",
       "325    220888    NaN          NaN       0\n",
       "1149   227087    NaN          NaN       0"
      ]
     },
     "execution_count": 17,
     "metadata": {},
     "output_type": "execute_result"
    }
   ],
   "source": [
    "igdb_df[igdb_df['genres'].isnull()]"
   ]
  },
  {
   "cell_type": "code",
   "execution_count": 18,
   "id": "e0b2ad4f",
   "metadata": {},
   "outputs": [
    {
     "name": "stdout",
     "output_type": "stream",
     "text": [
      "Percentage of games where rating = 0: 15.0%\n"
     ]
    }
   ],
   "source": [
    "#while collecting data, games with no rating got value 0\n",
    "rating_zero = round(len(igdb_df[igdb_df['rating']==0])/len(igdb_df['rating'])*100,0)\n",
    "print(f'Percentage of games where rating = 0: {rating_zero}%')"
   ]
  },
  {
   "cell_type": "markdown",
   "id": "0f88eb17",
   "metadata": {},
   "source": [
    "CONCLUSION:\n",
    "- 0.2% genres contains missing data\n",
    "- 0.3% platforms contains missing data\n",
    "- 15% ratings contain missing data\n",
    "\n",
    "All of these records were kept because they will be needed in the further analysis in Tableau"
   ]
  },
  {
   "cell_type": "code",
   "execution_count": 19,
   "id": "5e576e66",
   "metadata": {},
   "outputs": [
    {
     "name": "stdout",
     "output_type": "stream",
     "text": [
      "Сolumns without numeric data: genres, platforms.\n"
     ]
    }
   ],
   "source": [
    "# Forming categorical columns\n",
    "no_num_data = list(igdb_df.select_dtypes(exclude=('int', 'float')).columns)\n",
    "print(f'Сolumns without numeric data: {\", \".join(no_num_data)}.')"
   ]
  },
  {
   "cell_type": "code",
   "execution_count": 20,
   "id": "3749a526",
   "metadata": {},
   "outputs": [
    {
     "name": "stdout",
     "output_type": "stream",
     "text": [
      "Before genres: 20 After genres: 20\n",
      "Before platforms: 37 After platforms: 37\n"
     ]
    }
   ],
   "source": [
    "#Checking for unique genres and platforms\n",
    "for col in no_num_data:\n",
    "    print(f'Before {col}: {len(set(igdb_df[col]))} After {col}: {len(set(igdb_df[col].str.title().str.strip()))}')"
   ]
  },
  {
   "cell_type": "code",
   "execution_count": 21,
   "id": "fff5d118",
   "metadata": {},
   "outputs": [
    {
     "data": {
      "text/plain": [
       "count    1480.000000\n",
       "mean       64.008108\n",
       "std        28.649450\n",
       "min         0.000000\n",
       "25%        65.000000\n",
       "50%        75.000000\n",
       "75%        82.000000\n",
       "max        96.000000\n",
       "Name: rating, dtype: float64"
      ]
     },
     "execution_count": 21,
     "metadata": {},
     "output_type": "execute_result"
    }
   ],
   "source": [
    "igdb_df['rating'].describe()"
   ]
  },
  {
   "cell_type": "code",
   "execution_count": 22,
   "id": "ee570fcd",
   "metadata": {},
   "outputs": [
    {
     "data": {
      "text/plain": [
       "[array([65., 40.]), array([82., 96.])]"
      ]
     },
     "execution_count": 22,
     "metadata": {},
     "output_type": "execute_result"
    },
    {
     "data": {
      "image/png": "[encoded data removed]",
      "text/plain": [
       "<Figure size 640x480 with 1 Axes>"
      ]
     },
     "metadata": {},
     "output_type": "display_data"
    }
   ],
   "source": [
    "B = plt.boxplot(igdb_df['rating'])\n",
    "[item.get_ydata() for item in B['whiskers']]"
   ]
  },
  {
   "cell_type": "markdown",
   "id": "d634cb50",
   "metadata": {},
   "source": [
    "CONCLUSION:\n",
    "- It can be seen that most rating fall in the range between 40 and 96   \n",
    "- There are outliers in the data\n",
    "- Median rating is 75, which means that well-rated games are mostly streamed"
   ]
  }
 ],
 "metadata": {
  "kernelspec": {
   "display_name": "Python 3 (ipykernel)",
   "language": "python",
   "name": "python3"
  },
  "language_info": {
   "codemirror_mode": {
    "name": "ipython",
    "version": 3
   },
   "file_extension": ".py",
   "mimetype": "text/x-python",
   "name": "python",
   "nbconvert_exporter": "python",
   "pygments_lexer": "ipython3",
   "version": "3.9.16"
  }
 },
 "nbformat": 4,
 "nbformat_minor": 5
}
